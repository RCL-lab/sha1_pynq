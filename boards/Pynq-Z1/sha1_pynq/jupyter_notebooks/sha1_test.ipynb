{
 "cells": [
  {
   "cell_type": "markdown",
   "metadata": {},
   "source": [
    "# Implementation of SHA-1 Core on SoC Ported to Python"
   ]
  },
  {
   "cell_type": "code",
   "execution_count": null,
   "metadata": {},
   "outputs": [],
   "source": [
    "# Internal constants definitions\n",
    "ADDR_I_CS_DATA      = 0x10\n",
    "BITS_I_CS_DATA      = 1\n",
    "ADDR_I_WE_DATA      = 0x18\n",
    "BITS_I_WE_DATA      = 1\n",
    "ADDR_I_ADDRESS_DATA = 0x20\n",
    "BITS_I_ADDRESS_DATA = 8\n",
    "ADDR_I_WRITE_DATA   = 0x28\n",
    "BITS_I_WRITE_DATA   = 32\n",
    "ADDR_O_READ_DATA    = 0x30\n",
    "BITS_O_READ_DATA    = 32\n",
    "ADDR_O_READ_CTRL    = 0x34\n",
    "ADDR_O_ERROR_DATA   = 0x38\n",
    "BITS_O_ERROR_DATA   = 1\n",
    "ADDR_O_ERROR_CTRL   = 0x3c"
   ]
  },
  {
   "cell_type": "code",
   "execution_count": null,
   "metadata": {},
   "outputs": [],
   "source": [
    "# Load the overlay containing the IP\n",
    "from pynq import Overlay\n",
    "\n",
    "overlay = Overlay('/usr/local/lib/python3.6/dist-packages/sha1_pynq/bitstream/sha1_overlay.bit')"
   ]
  },
  {
   "cell_type": "code",
   "execution_count": null,
   "metadata": {},
   "outputs": [],
   "source": [
    "# See what attributes the overlay has\n",
    "overlay?"
   ]
  },
  {
   "cell_type": "code",
   "execution_count": null,
   "metadata": {},
   "outputs": [],
   "source": [
    "# Access the the sha1 attribute to create a driver for the IP\n",
    "sha1_ip = overlay.sha1_control_0\n",
    "sha1_ip?"
   ]
  },
  {
   "cell_type": "code",
   "execution_count": null,
   "metadata": {},
   "outputs": [],
   "source": [
    "def check_core():\n",
    "    '''Print the name of the IP core and the version.\n",
    "    \n",
    "    Arguments:\n",
    "    None\n",
    "    \n",
    "    Return:\n",
    "    None\n",
    "    '''\n",
    "    \n",
    "    sha1_ip.write(ADDR_I_ADDRESS_DATA, 0)\n",
    "    sha1_ip.write(ADDR_I_CS_DATA, 1)\n",
    "    sha1_ip.write(ADDR_I_WE_DATA, 0)\n",
    "    name0 = sha1_ip.read(ADDR_O_READ_DATA)\n",
    "    print(bytearray.fromhex(hex(name0)[2:]).decode())\n",
    "    \n",
    "    sha1_ip.write(ADDR_I_ADDRESS_DATA, 1)\n",
    "    sha1_ip.write(ADDR_I_CS_DATA, 1)\n",
    "    sha1_ip.write(ADDR_I_WE_DATA, 0)\n",
    "    name1 = sha1_ip.read(ADDR_O_READ_DATA)\n",
    "    print(bytearray.fromhex(hex(name1)[2:]).decode())\n",
    "    \n",
    "    sha1_ip.write(ADDR_I_ADDRESS_DATA, 2)\n",
    "    sha1_ip.write(ADDR_I_CS_DATA, 1)\n",
    "    sha1_ip.write(ADDR_I_WE_DATA, 0)\n",
    "    version = sha1_ip.read(ADDR_O_READ_DATA)\n",
    "    print(bytearray.fromhex(hex(version)[2:]).decode())"
   ]
  },
  {
   "cell_type": "code",
   "execution_count": null,
   "metadata": {},
   "outputs": [],
   "source": [
    "def read_word(address):\n",
    "    '''Read a data word from the given address\n",
    "    \n",
    "    Arguments:\n",
    "    address - the address to read data from\n",
    "    \n",
    "    Return:\n",
    "    The data that was read from memory\n",
    "    '''\n",
    "    \n",
    "    sha1_ip.write(ADDR_I_ADDRESS_DATA, address)\n",
    "    sha1_ip.write(ADDR_I_CS_DATA, 1)\n",
    "    sha1_ip.write(ADDR_I_WE_DATA, 0)\n",
    "    word =0;\n",
    "    while(sha1_ip.read(ADDR_O_READ_DATA) != 0):\n",
    "        word = sha1_ip.read(ADDR_O_READ_DATA)\n",
    "        break\n",
    "    return word"
   ]
  },
  {
   "cell_type": "code",
   "execution_count": null,
   "metadata": {},
   "outputs": [],
   "source": [
    "def read_digest():\n",
    "    '''Read the digest of the message that was input\n",
    "    \n",
    "    Arguments:\n",
    "    None\n",
    "    \n",
    "    Return:\n",
    "    A byte array of length 20 containing the digest data\n",
    "    '''\n",
    "    \n",
    "    digest = bytearray()\n",
    "    for i in range(5):\n",
    "        data = read_word(0x20 + i)\n",
    "        digest.extend(data.to_bytes(4, byteorder='big'))\n",
    "    return digest"
   ]
  },
  {
   "cell_type": "code",
   "execution_count": null,
   "metadata": {},
   "outputs": [],
   "source": [
    "def write_word(address, word):\n",
    "    '''Write a data word to the given address\n",
    "    \n",
    "    Arguments:\n",
    "    address - the address to write to\n",
    "    word - the data to write\n",
    "    \n",
    "    Return:\n",
    "    None\n",
    "    '''\n",
    "    \n",
    "    sha1_ip.write(ADDR_I_ADDRESS_DATA, address)\n",
    "    sha1_ip.write(ADDR_I_WRITE_DATA, word)"
   ]
  },
  {
   "cell_type": "code",
   "execution_count": null,
   "metadata": {},
   "outputs": [],
   "source": [
    "def pad_message(msg):\n",
    "    '''Pad the input message following the SHA1 documentation.\n",
    "    The purpose of the padding is to make the padded message have \n",
    "    a total length that is a multiple of 512, which can be processed\n",
    "    as sequential blocks of 512 bits.\n",
    "    \n",
    "    Arguments:\n",
    "    msg - input message as an ascii string\n",
    "    \n",
    "    Return:\n",
    "    A byte array containing the bytes of the padded message\n",
    "    '''\n",
    "    \n",
    "    blocks = bytearray(msg, 'ascii')\n",
    "    msgSize = len(msg)\n",
    "    blocks.append(0x80)\n",
    "    while len(blocks) % 64 != 56:\n",
    "        blocks.append(0x00)\n",
    "    reserved = (msgSize * 8).to_bytes(8, byteorder='big')\n",
    "    blocks.extend(reserved)\n",
    "    return bytes(blocks)"
   ]
  },
  {
   "cell_type": "code",
   "execution_count": null,
   "metadata": {},
   "outputs": [],
   "source": [
    "def write_block(block, ctrl_val):\n",
    "    '''Write a block of the padded message.\n",
    "    \n",
    "    Arguments:\n",
    "    block - 512 bits of data to be written\n",
    "    ctrl_val - control value based on what block is being written\n",
    "    \n",
    "    Return:\n",
    "    None\n",
    "    '''\n",
    "    \n",
    "    sha1_ip.write(ADDR_I_CS_DATA, 1)\n",
    "    sha1_ip.write(ADDR_I_WE_DATA, 1)\n",
    "    j = 0\n",
    "    for i in range(16):\n",
    "        word = int.from_bytes(block[j:j+4], byteorder='big')\n",
    "        write_word(0x10 + i, word)\n",
    "        j += 4\n",
    "    write_word(0x8, ctrl_val)\n",
    "    sha1_ip.write(ADDR_I_WE_DATA, 0)\n",
    "    sha1_ip.write(ADDR_I_CS_DATA, 0)\n",
    "    sha1_ip.write(ADDR_I_CS_DATA, 1)"
   ]
  },
  {
   "cell_type": "code",
   "execution_count": null,
   "metadata": {},
   "outputs": [],
   "source": [
    "def write_blocks(blocks):\n",
    "    '''Write each block of the padded message.\n",
    "    \n",
    "    Arguments:\n",
    "    blocks - A byte array containing the bytes of the padded message\n",
    "    \n",
    "    Return:\n",
    "    None\n",
    "    '''\n",
    "    \n",
    "    bytesWritten = 0\n",
    "    while bytesWritten < len(blocks):\n",
    "        if bytesWritten == 0:\n",
    "            write_block(blocks[bytesWritten:bytesWritten + 64], 0x1)\n",
    "        else:\n",
    "            write_block(blocks[bytesWritten:bytesWritten + 64], 0x2)\n",
    "        \n",
    "        status = read_word(0x09)\n",
    "        while status == 0:\n",
    "            status = read_word(0x09)\n",
    "            print(\"status:\", status)\n",
    "        \n",
    "        bytesWritten += 64"
   ]
  },
  {
   "cell_type": "code",
   "execution_count": null,
   "metadata": {},
   "outputs": [],
   "source": [
    "def hw_digest(msg):\n",
    "    '''Pad the inpute message, write the sequential blocks, and read the digest of the input.\n",
    "    \n",
    "    Arguements:\n",
    "    msg - input message as an ascii string\n",
    "    \n",
    "    Return:\n",
    "    A byte array of length 20 containing the digest data\n",
    "    '''\n",
    "    \n",
    "    msgPadded = pad_message(msg)\n",
    "    write_blocks(msgPadded)\n",
    "    digest = read_digest()\n",
    "    return digest"
   ]
  },
  {
   "cell_type": "code",
   "execution_count": null,
   "metadata": {},
   "outputs": [],
   "source": [
    "import hashlib\n",
    "def sw_digest(msg):\n",
    "    '''Get the SHA1 digest of an ascii message using internal Python library.\n",
    "    \n",
    "    Arguments:\n",
    "    msg - input message as an ascii string\n",
    "    \n",
    "    Return:\n",
    "    A SHA1 hash object of the digest for the input message\n",
    "    '''\n",
    "    \n",
    "    digest = hashlib.sha1(msg.encode())\n",
    "    return digest"
   ]
  },
  {
   "cell_type": "code",
   "execution_count": null,
   "metadata": {},
   "outputs": [],
   "source": [
    "def test_sha1(msg):\n",
    "    '''Check if the message digests from hardware and software are the same.\n",
    "    \n",
    "    Arguments:\n",
    "    msg - input message as an ascii string\n",
    "    \n",
    "    Return:\n",
    "    None\n",
    "    '''\n",
    "    \n",
    "    swDigest = sw_digest(msg).hexdigest()\n",
    "    hwDigest = hw_digest(msg).hex()\n",
    "    print(\"hw digest: {}\".format(hwDigest))\n",
    "    print(\"sw digest: {}\".format(swDigest))\n",
    "    \n",
    "    if swDigest == hwDigest:\n",
    "        print(\"Test Passed!\")\n",
    "    else:\n",
    "        print(\"Test Failed!\")"
   ]
  },
  {
   "cell_type": "code",
   "execution_count": null,
   "metadata": {},
   "outputs": [],
   "source": [
    "# Test 1\n",
    "print(\"----------------------------------------\")\n",
    "print(\"Single Block Test\")\n",
    "print(\"----------------------------------------\")\n",
    "test_sha1(\"abc\")\n",
    "print(\"\\n----------------------------------------\")\n",
    "print(\"Double Block Test\")\n",
    "print(\"----------------------------------------\")\n",
    "test_sha1(\"abcdbcdecdefdefgefghfghighijhijkijkljklmklmnlmnomnopnopq\")"
   ]
  },
  {
   "cell_type": "code",
   "execution_count": null,
   "metadata": {},
   "outputs": [],
   "source": [
    "# Test 2\n",
    "test_sha1(\"Hello world\")"
   ]
  },
  {
   "cell_type": "code",
   "execution_count": null,
   "metadata": {},
   "outputs": [],
   "source": [
    "# Test 3\n",
    "test_sha1(\"Reconfigurable GPU Computing Lab\")"
   ]
  },
  {
   "cell_type": "code",
   "execution_count": null,
   "metadata": {},
   "outputs": [],
   "source": [
    "# Custom message test\n",
    "m = input(\"Enter a message to hash with SHA1: \")\n",
    "test_sha1(m)"
   ]
  },
  {
   "cell_type": "code",
   "execution_count": null,
   "metadata": {},
   "outputs": [],
   "source": [
    "%%timeit\n",
    "# Software Timing\n",
    "sw_digest(\"Hello World!\")"
   ]
  },
  {
   "cell_type": "code",
   "execution_count": null,
   "metadata": {},
   "outputs": [],
   "source": [
    "%%timeit\n",
    "# Hardware Timing\n",
    "hw_digest(\"Hello World!\")"
   ]
  }
 ],
 "metadata": {
  "kernelspec": {
   "display_name": "Python 3",
   "language": "python",
   "name": "python3"
  },
  "language_info": {
   "codemirror_mode": {
    "name": "ipython",
    "version": 3
   },
   "file_extension": ".py",
   "mimetype": "text/x-python",
   "name": "python",
   "nbconvert_exporter": "python",
   "pygments_lexer": "ipython3",
   "version": "3.6.5"
  }
 },
 "nbformat": 4,
 "nbformat_minor": 2
}
