{
 "cells": [
  {
   "cell_type": "code",
   "execution_count": 1,
   "metadata": {},
   "outputs": [
    {
     "data": {
      "application/javascript": [
       "\n",
       "require(['notebook/js/codecell'], function(codecell) {\n",
       "  codecell.CodeCell.options_default.highlight_modes[\n",
       "      'magic_text/x-csrc'] = {'reg':[/^%%microblaze/]};\n",
       "  Jupyter.notebook.events.one('kernel_ready.Kernel', function(){\n",
       "      Jupyter.notebook.get_cells().map(function(cell){\n",
       "          if (cell.cell_type == 'code'){ cell.auto_highlight(); } }) ;\n",
       "  });\n",
       "});\n"
      ]
     },
     "metadata": {},
     "output_type": "display_data"
    }
   ],
   "source": [
    "ADDR_I_CS_DATA      = 0x10\n",
    "BITS_I_CS_DATA      = 1\n",
    "ADDR_I_WE_DATA      = 0x18\n",
    "BITS_I_WE_DATA      = 1\n",
    "ADDR_I_ADDRESS_DATA = 0x20\n",
    "BITS_I_ADDRESS_DATA = 8\n",
    "ADDR_I_WRITE_DATA   = 0x28\n",
    "BITS_I_WRITE_DATA   = 32\n",
    "ADDR_O_READ_DATA    = 0x30\n",
    "BITS_O_READ_DATA    = 32\n",
    "ADDR_O_READ_CTRL    = 0x34\n",
    "ADDR_O_ERROR_DATA   = 0x38\n",
    "BITS_O_ERROR_DATA   = 1\n",
    "ADDR_O_ERROR_CTRL   = 0x3c\n",
    "\n",
    "from pynq import Overlay\n",
    "\n",
    "overlay = Overlay('/home/xilinx/sha1_overlay/sha1_overlay.bit')"
   ]
  },
  {
   "cell_type": "code",
   "execution_count": 2,
   "metadata": {},
   "outputs": [],
   "source": [
    "overlay?"
   ]
  },
  {
   "cell_type": "code",
   "execution_count": 3,
   "metadata": {},
   "outputs": [],
   "source": [
    "sha1_ip = overlay.sha1_control_0\n",
    "sha1_ip?"
   ]
  },
  {
   "cell_type": "code",
   "execution_count": 4,
   "metadata": {},
   "outputs": [],
   "source": [
    "def check_name():\n",
    "    sha1_ip.write(ADDR_I_ADDRESS_DATA, 0)\n",
    "    sha1_ip.write(ADDR_I_CS_DATA, 1)\n",
    "    sha1_ip.write(ADDR_I_WE_DATA, 0)\n",
    "    name0 = sha1_ip.read(ADDR_O_READ_DATA)\n",
    "    print(bytearray.fromhex(hex(name0)[2:]).decode())\n",
    "    \n",
    "    sha1_ip.write(ADDR_I_ADDRESS_DATA, 1)\n",
    "    sha1_ip.write(ADDR_I_CS_DATA, 1)\n",
    "    sha1_ip.write(ADDR_I_WE_DATA, 0)\n",
    "    name1 = sha1_ip.read(ADDR_O_READ_DATA)\n",
    "    print(bytearray.fromhex(hex(name1)[2:]).decode())\n",
    "    \n",
    "    sha1_ip.write(ADDR_I_ADDRESS_DATA, 2)\n",
    "    sha1_ip.write(ADDR_I_CS_DATA, 1)\n",
    "    sha1_ip.write(ADDR_I_WE_DATA, 0)\n",
    "    version = sha1_ip.read(ADDR_O_READ_DATA)\n",
    "    print(bytearray.fromhex(hex(version)[2:]).decode())"
   ]
  },
  {
   "cell_type": "code",
   "execution_count": 5,
   "metadata": {},
   "outputs": [],
   "source": [
    "def read_word(address):\n",
    "    sha1_ip.write(ADDR_I_ADDRESS_DATA, address)\n",
    "    sha1_ip.write(ADDR_I_CS_DATA, 1)\n",
    "    sha1_ip.write(ADDR_I_WE_DATA, 0)\n",
    "    while(sha1_ip.read(ADDR_O_READ_DATA) != 0):\n",
    "        word = sha1_ip.read(ADDR_O_READ_DATA)\n",
    "        break\n",
    "    sha1_ip.write(ADDR_I_CS_DATA, 0)\n",
    "    return word"
   ]
  },
  {
   "cell_type": "code",
   "execution_count": 6,
   "metadata": {},
   "outputs": [],
   "source": [
    "def write_word(address, word):\n",
    "    # add error handling word (32 bits), address (8 bits)\n",
    "    sha1_ip.write(ADDR_I_ADDRESS_DATA, address)\n",
    "    sha1_ip.write(ADDR_I_WRITE_DATA, word)\n",
    "    sha1_ip.write(ADDR_I_CS_DATA, 1)\n",
    "    sha1_ip.write(ADDR_I_WE_DATA, 1)\n",
    "    sha1_ip.write(ADDR_I_CS_DATA, 0)\n",
    "    sha1_ip.write(ADDR_I_WE_DATA, 0)"
   ]
  },
  {
   "cell_type": "code",
   "execution_count": 7,
   "metadata": {},
   "outputs": [],
   "source": [
    "def write_block(block):\n",
    "    # block is 512 bits\n",
    "    mask = 0xffffffff000000000000000000000000000000000000000000000000000000000000000000000000000000000000000000000000000000000000000000000000\n",
    "    write_word(0x10, (block & mask) >> 480);\n",
    "    write_word(0x11, (block & (mask >> 32)) >> 448);\n",
    "    write_word(0x12, (block & (mask >> 64)) >> 416);\n",
    "    write_word(0x13, (block & (mask >> 96)) >> 384);\n",
    "    write_word(0x14, (block & (mask >> 128)) >> 352);\n",
    "    write_word(0x15, (block & (mask >> 160)) >> 320);\n",
    "    write_word(0x16, (block & (mask >> 192)) >> 288);\n",
    "    write_word(0x17, (block & (mask >> 224)) >> 256);\n",
    "    write_word(0x18, (block & (mask >> 256)) >> 224);\n",
    "    write_word(0x19, (block & (mask >> 288)) >> 192);\n",
    "    write_word(0x1a, (block & (mask >> 320)) >> 160);\n",
    "    write_word(0x1b, (block & (mask >> 352)) >> 128);\n",
    "    write_word(0x1c, (block & (mask >> 384)) >> 96);\n",
    "    write_word(0x1d, (block & (mask >> 416)) >> 64);\n",
    "    write_word(0x1e, (block & (mask >> 448)) >> 32);\n",
    "    write_word(0x1f, block & (mask >> 480));"
   ]
  },
  {
   "cell_type": "code",
   "execution_count": 8,
   "metadata": {},
   "outputs": [],
   "source": [
    "def read_digest():\n",
    "    digest_data_mask = 0xffffffff000000000000000000000000ffffffff\n",
    "    mask = 0xffffffff00000000000000000000000000000000\n",
    "    digest_data = (read_word(0x20) & digest_data_mask) << 128\n",
    "    digest_data = digest_data | ((read_word(0x21) & digest_data_mask) << 96)\n",
    "    digest_data = digest_data | ((read_word(0x22) & digest_data_mask) << 64)\n",
    "    digest_data = digest_data | ((read_word(0x23) & digest_data_mask) << 32)\n",
    "    digest_data = digest_data | read_word(0x24)\n",
    "    return digest_data"
   ]
  },
  {
   "cell_type": "code",
   "execution_count": null,
   "metadata": {},
   "outputs": [],
   "source": [
    "check_name()"
   ]
  },
  {
   "cell_type": "code",
   "execution_count": null,
   "metadata": {},
   "outputs": [],
   "source": [
    "test = read_word(0)\n",
    "print(test)\n",
    "print(bytearray.fromhex(hex(test)[2:]).decode())"
   ]
  },
  {
   "cell_type": "code",
   "execution_count": null,
   "metadata": {},
   "outputs": [],
   "source": [
    "write_word(0x10, 5)\n",
    "test = read_word(0x10)\n",
    "print(test)"
   ]
  },
  {
   "cell_type": "code",
   "execution_count": 9,
   "metadata": {},
   "outputs": [],
   "source": [
    "def create_block(msg):\n",
    "    from bitstring import BitArray\n",
    "    binMsg = ''.join(format(ord(ch), '08b') for ch in msg)\n",
    "    binMsg = \"0b\" + binMsg\n",
    "    arr = BitArray(binMsg)\n",
    "    msgSize = len(arr)\n",
    "    arr.append('0b1')\n",
    "    padSize = (512 - 64) - len(arr)\n",
    "    for i in range(padSize):\n",
    "        arr.append('0b0')\n",
    "    reserved = format(msgSize, '#066b')\n",
    "    arr.append(reserved)\n",
    "    return arr.int"
   ]
  },
  {
   "cell_type": "code",
   "execution_count": 11,
   "metadata": {},
   "outputs": [
    {
     "name": "stdout",
     "output_type": "stream",
     "text": [
      "968236873715988614170569073515315707566766479517\n",
      "0xa9993e364706816aba3e25717850c26c9cd0d89d\n"
     ]
    }
   ],
   "source": [
    "def test_sha1():\n",
    "    # single block msg = \"abc\"\n",
    "    # expected output = 968236873715988614170569073515315707566766479517\n",
    "    #test_block = 0x61626380000000000000000000000000000000000000000000000000000000000000000000000000000000000000000000000000000000000000000000000018\n",
    "    test_block = create_block(\"abc\")\n",
    "    write_block(test_block)\n",
    "    write_word(0x08, 1)\n",
    "    digest = read_digest()\n",
    "    print(digest)\n",
    "    \n",
    "test_sha1()"
   ]
  },
  {
   "cell_type": "code",
   "execution_count": null,
   "metadata": {},
   "outputs": [],
   "source": []
  }
 ],
 "metadata": {
  "kernelspec": {
   "display_name": "Python 3",
   "language": "python",
   "name": "python3"
  },
  "language_info": {
   "codemirror_mode": {
    "name": "ipython",
    "version": 3
   },
   "file_extension": ".py",
   "mimetype": "text/x-python",
   "name": "python",
   "nbconvert_exporter": "python",
   "pygments_lexer": "ipython3",
   "version": "3.6.0"
  }
 },
 "nbformat": 4,
 "nbformat_minor": 2
}
